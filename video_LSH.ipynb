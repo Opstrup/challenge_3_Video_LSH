{
 "cells": [
  {
   "cell_type": "code",
   "execution_count": 15,
   "metadata": {
    "collapsed": true
   },
   "outputs": [],
   "source": [
    "from adjusted_rand_index import rand_index\n",
    "import os\n",
    "import io\n",
    "import math\n",
    "import PIL\n",
    "import numpy\n",
    "from PIL import Image, ImageDraw\n",
    "from threading import Thread\n",
    "import numpy as np\n",
    "from datasketch import MinHash, MinHashLSH\n",
    "from subprocess import call\n",
    "\n",
    "DATASET_FOLDER = 'videos/'\n",
    "TEST_VIDEO = 'ZZTM0X6OON1U.mp4'"
   ]
  },
  {
   "cell_type": "code",
   "execution_count": 2,
   "metadata": {
    "collapsed": true
   },
   "outputs": [],
   "source": [
    "def get_keyframes_from_video(video):\n",
    "    print(\"Getting keyframes from video\")\n",
    "    test_path = DATASET_FOLDER + \"/\" + TEST_VIDEO\n",
    "    call(\"\"\"ffmpeg -i \"\"\" + DATASET_FOLDER + video + \"\"\" -vf \"select='eq(pict_type,PICT_TYPE_I)'\" -vsync vfr images/image_%d.png\"\"\", shell=True)"
   ]
  },
  {
   "cell_type": "code",
   "execution_count": null,
   "metadata": {
    "collapsed": true
   },
   "outputs": [],
   "source": [
    "def delete_images():\n",
    "    call(\"rm images/*.png\", shell=True)"
   ]
  },
  {
   "cell_type": "code",
   "execution_count": null,
   "metadata": {
    "collapsed": true
   },
   "outputs": [],
   "source": [
    "def LSH_frame(image):\n",
    "    "
   ]
  },
  {
   "cell_type": "code",
   "execution_count": 3,
   "metadata": {},
   "outputs": [
    {
     "name": "stdout",
     "output_type": "stream",
     "text": [
      "Getting keyframes from video\n"
     ]
    }
   ],
   "source": [
    "get_keyframes_from_video(TEST_VIDEO)"
   ]
  },
  {
   "cell_type": "code",
   "execution_count": 4,
   "metadata": {},
   "outputs": [
    {
     "ename": "NameError",
     "evalue": "name 'delete_images' is not defined",
     "output_type": "error",
     "traceback": [
      "\u001b[0;31m---------------------------------------------------------------------------\u001b[0m",
      "\u001b[0;31mNameError\u001b[0m                                 Traceback (most recent call last)",
      "\u001b[0;32m<ipython-input-4-fbac8ce1ab6f>\u001b[0m in \u001b[0;36m<module>\u001b[0;34m()\u001b[0m\n\u001b[0;32m----> 1\u001b[0;31m \u001b[0mdelete_images\u001b[0m\u001b[0;34m(\u001b[0m\u001b[0;34m)\u001b[0m\u001b[0;34m\u001b[0m\u001b[0m\n\u001b[0m",
      "\u001b[0;31mNameError\u001b[0m: name 'delete_images' is not defined"
     ]
    }
   ],
   "source": [
    "delete_images()"
   ]
  },
  {
   "cell_type": "code",
   "execution_count": 5,
   "metadata": {
    "collapsed": true
   },
   "outputs": [],
   "source": [
    "# Work flow:\n",
    "# Open video file\n",
    "# Extract frame from video (Extract x number of frames from video?)\n",
    "# Hash frame\n",
    "# Compare hash value with other hash values\n",
    "# Cluster videos based on similarity of hash values"
   ]
  },
  {
   "cell_type": "code",
   "execution_count": 6,
   "metadata": {
    "collapsed": true
   },
   "outputs": [],
   "source": [
    "def convert_to_hash(img_path):\n",
    "    # Converte img to grayscale & resize img\n",
    "    img = Image.open(img_path).convert('LA').resize((10,10), PIL.Image.ANTIALIAS)\n",
    "    numpy_array = numpy.array(img)\n",
    "    min_hash = MinHash(num_perm=128)\n",
    "    # Hash img\n",
    "    for val in numpy_array:\n",
    "        min_hash.update(val)\n",
    "        \n",
    "    return min_hash"
   ]
  },
  {
   "cell_type": "code",
   "execution_count": 7,
   "metadata": {
    "collapsed": true
   },
   "outputs": [],
   "source": [
    "def LSH_frames(frames):\n",
    "    first_frame = frames.pop(0)\n",
    "    \n",
    "    for frame in frames:\n",
    "        first_frame.merge(frame)\n",
    "    \n",
    "    return first_frame"
   ]
  },
  {
   "cell_type": "code",
   "execution_count": 26,
   "metadata": {},
   "outputs": [
    {
     "name": "stdout",
     "output_type": "stream",
     "text": [
      "image_1.png\n",
      "image_2.png\n",
      "combined hash: [257745667 311070303 117959027  87279471  22484891  90039672  42503709\n",
      " 146408594  72557899 215111755 391445848 177162749   8816476 341693819\n",
      "  12370743 182146065 985554059 325912565 290463679 323391472 247655076\n",
      "  20936551 137294740  71079236 160359106 343841007 363246453  35212925\n",
      " 225457881 138271137  23783783  46416032  12395878 322617685 223076816\n",
      " 152261390  10329954 231987504  66042231 413686839 218719437  10490350\n",
      " 120758154 139762970 695674042  65971800  72696235 540029432 123102351\n",
      " 409786535 405552158 426617691 850510508 323240839  43995385  25743310\n",
      " 109616431 633022589 313576640 235005484  56969920 124940917 337079890\n",
      " 319531840  29623296 353686986  75708855 485809707  55740287 357100721\n",
      "  68121323 250956009 109965703 104011406 116513669 479724541  82045010\n",
      " 448942529 269040570 219739468  14985844 174497583  35472227   4659337\n",
      " 343506585 401847134 470824034 139003007  17376773  44967005  30400073\n",
      "  79841436  82104040  69041721 339680483  28974107 399677079 124983865\n",
      " 253167477  19355302  23782366 167342035 387400251 757865089  33934689\n",
      " 221524750  55978114 280203001  99496382  92655983 137284515  73077068\n",
      "  49075042 140686420 129690647 208724167 280869747 360940859  57719823\n",
      " 104623278 139781178  38753849  86762731   9003673  56745281 289743461\n",
      " 617594261 107613995]\n",
      "image_1.png\n",
      "image_2.png\n",
      "image_3.png\n",
      "image_4.png\n",
      "combined hash: [257745667 104486084 117959027  74810516  22484891  90039672  42503709\n",
      " 146408594  66901152  12942334 135667240  89113391   8816476 196806490\n",
      "  12370743  24116506 448800337 143845910  93524547 219138371 192042250\n",
      "  20936551 137294740  71079236 160359106 321670969  19419654  35212925\n",
      "  62068048  10609758  23783783  46416032  12395878 166919601 149865638\n",
      "  11827606  10329954  60308459   6862375  96595635 164410200  10490350\n",
      "  33734145 139762970 363136073  64820823  34917398 119414434 123102351\n",
      "  14860690 181069929  89705467 292797877 217221326  43995385  21414724\n",
      " 109616431 198470486 313576640  40740050  56969920 124940917  72343879\n",
      "  96139559  29623296 124527912  72058598  24973915  55740287  33207187\n",
      "  67633010 125877224 109965703  85787353 116513669  79315041  82045010\n",
      " 295881424 269040570 219739468  14985844  10091867  35472227   4659337\n",
      " 224525342 111551984 314154005  44055868  17376773   1303645  30400073\n",
      "  79841436  41245235  69041721 144337739  28974107 294994186   9189222\n",
      " 253167477  19355302  23782366   8128205  12763659  87925101  33934689\n",
      " 221524750  33624546  19272208  49776251  92655983 137284515  73077068\n",
      "  49075042 140686420 129690647 208724167 280869747 294494988  57719823\n",
      " 104623278 139781178  38753849  86762731   9003673  56745281 179136153\n",
      "  22719126 107613995]\n"
     ]
    }
   ],
   "source": [
    "images = []\n",
    "\n",
    "\n",
    "for filename in sorted(os.listdir(\"images/\")):\n",
    "    hashed_image = convert_to_hash(\"images/\"+filename)\n",
    "    images.append(hashed_image)\n",
    "\n",
    "combined_hash = LSH_frames(images)\n",
    "print(\"combined hash: \"+str(combined_hash.hashvalues))\n",
    "\n",
    "    "
   ]
  },
  {
   "cell_type": "code",
   "execution_count": null,
   "metadata": {
    "collapsed": true
   },
   "outputs": [],
   "source": []
  }
 ],
 "metadata": {
  "kernelspec": {
   "display_name": "Python 3",
   "language": "python",
   "name": "python3"
  },
  "language_info": {
   "codemirror_mode": {
    "name": "ipython",
    "version": 3
   },
   "file_extension": ".py",
   "mimetype": "text/x-python",
   "name": "python",
   "nbconvert_exporter": "python",
   "pygments_lexer": "ipython3",
   "version": "3.6.2"
  }
 },
 "nbformat": 4,
 "nbformat_minor": 2
}
