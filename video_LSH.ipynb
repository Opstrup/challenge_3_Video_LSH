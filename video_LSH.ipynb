{
 "cells": [
  {
   "cell_type": "code",
   "execution_count": 32,
   "metadata": {
    "collapsed": true
   },
   "outputs": [],
   "source": [
    "from adjusted_rand_index import rand_index\n",
    "import os\n",
    "import io\n",
    "import math\n",
    "from PIL import Image, ImageDraw\n",
    "from threading import Thread\n",
    "import numpy as np\n",
    "from subprocess import call\n",
    "\n",
    "DATASET_FOLDER = 'videos/'\n",
    "TEST_VIDEO = 'ZZTM0X6OON1U.mp4'"
   ]
  },
  {
   "cell_type": "code",
   "execution_count": 35,
   "metadata": {
    "collapsed": true
   },
   "outputs": [],
   "source": [
    "def get_keyframes_from_video(video):\n",
    "    print(\"Getting keyframes from video\")\n",
    "    test_path = DATASET_FOLDER + \"/\" + TEST_VIDEO\n",
    "    call(\"\"\"ffmpeg -i \"\"\" + DATASET_FOLDER + video + \"\"\" -vf \"select='eq(pict_type,PICT_TYPE_I)'\" -vsync vfr images/image_%d.png\"\"\", shell=True)"
   ]
  },
  {
   "cell_type": "code",
   "execution_count": 41,
   "metadata": {
    "collapsed": true
   },
   "outputs": [],
   "source": [
    "def delete_images():\n",
    "    call(\"rm images/*.png\", shell=True)"
   ]
  },
  {
   "cell_type": "code",
   "execution_count": null,
   "metadata": {
    "collapsed": true
   },
   "outputs": [],
   "source": [
    "def LSH_frame(image):\n",
    "    "
   ]
  },
  {
   "cell_type": "code",
   "execution_count": 37,
   "metadata": {},
   "outputs": [
    {
     "name": "stdout",
     "output_type": "stream",
     "text": [
      "Getting keyframes from video\n"
     ]
    }
   ],
   "source": [
    "get_keyframes_from_video(TEST_VIDEO)"
   ]
  },
  {
   "cell_type": "code",
   "execution_count": 40,
   "metadata": {
    "collapsed": true
   },
   "outputs": [],
   "source": [
    "delete_images()"
   ]
  },
  {
   "cell_type": "code",
   "execution_count": 27,
   "metadata": {
    "collapsed": true
   },
   "outputs": [],
   "source": [
    "# Work flow:\n",
    "# Open video file\n",
    "# Extract frame from video (Extract x number of frames from video?)\n",
    "# Hash frame\n",
    "# Compare hash value with other hash values\n",
    "# Cluster videos based on similarity of hash values"
   ]
  },
  {
   "cell_type": "code",
   "execution_count": null,
   "metadata": {
    "collapsed": true
   },
   "outputs": [],
   "source": []
  }
 ],
 "metadata": {
  "kernelspec": {
   "display_name": "Python 3",
   "language": "python",
   "name": "python3"
  },
  "language_info": {
   "codemirror_mode": {
    "name": "ipython",
    "version": 3
   },
   "file_extension": ".py",
   "mimetype": "text/x-python",
   "name": "python",
   "nbconvert_exporter": "python",
   "pygments_lexer": "ipython3",
   "version": "3.6.1"
  }
 },
 "nbformat": 4,
 "nbformat_minor": 2
}
