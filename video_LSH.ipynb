{
 "cells": [
  {
   "cell_type": "code",
   "execution_count": 1,
   "metadata": {
    "collapsed": true
   },
   "outputs": [],
   "source": [
    "from adjusted_rand_index import rand_index\n",
    "import os\n",
    "import io\n",
    "import math\n",
    "import PIL\n",
    "import numpy\n",
    "from PIL import Image, ImageDraw\n",
    "from threading import Thread\n",
    "import numpy as np\n",
    "from datasketch import MinHash, MinHashLSH\n",
    "from subprocess import call\n",
    "\n",
    "DATASET_FOLDER = 'videos/'\n",
    "TEST_VIDEO = 'ZZTM0X6OON1U.mp4'\n",
    "IMAGE_FOLDER = \"images/\"\n",
    "\n",
    "Hashvalues = {}"
   ]
  },
  {
   "cell_type": "code",
   "execution_count": 3,
   "metadata": {
    "collapsed": true
   },
   "outputs": [],
   "source": [
    "def get_keyframes_from_video(video):\n",
    "    for filename in sorted(os.listdir(DATASET_FOLDER)):\n",
    "        test_path = DATASET_FOLDER + \"/\" + filename\n",
    "        call(\"\"\"ffmpeg -i \"\"\" + DATASET_FOLDER + filename + \"\"\" -vf \"select='eq(pict_type,PICT_TYPE_I)'\" -vsync vfr images/image_%d.png\"\"\", shell=True)\n",
    "        Hashvalues[filename] =  combined_hash_value(IMAGE_FOLDER)\n",
    "        delete_images()\n",
    "    \n",
    "    print(\"Length: \"+len(Hashvalues))"
   ]
  },
  {
   "cell_type": "code",
   "execution_count": 4,
   "metadata": {
    "collapsed": true
   },
   "outputs": [],
   "source": [
    "def delete_images():\n",
    "    call(\"rm images/*.png\", shell=True)"
   ]
  },
  {
   "cell_type": "code",
   "execution_count": null,
   "metadata": {
    "collapsed": true
   },
   "outputs": [],
   "source": [
    "def LSH_frame(image):\n",
    "    "
   ]
  },
  {
   "cell_type": "code",
   "execution_count": null,
   "metadata": {},
   "outputs": [],
   "source": [
    "delete_images()"
   ]
  },
  {
   "cell_type": "code",
   "execution_count": null,
   "metadata": {
    "collapsed": true
   },
   "outputs": [],
   "source": [
    "# Work flow:\n",
    "# Open video file\n",
    "# Extract frame from video (Extract x number of frames from video?)\n",
    "# Hash frame\n",
    "# Compare hash value with other hash values\n",
    "# Cluster videos based on similarity of hash values"
   ]
  },
  {
   "cell_type": "code",
   "execution_count": 5,
   "metadata": {
    "collapsed": true
   },
   "outputs": [],
   "source": [
    "def convert_to_hash(img_path):\n",
    "    # Converte img to grayscale & resize img\n",
    "    img = Image.open(img_path).convert('LA').resize((10,10), PIL.Image.ANTIALIAS)\n",
    "    numpy_array = numpy.array(img)\n",
    "    min_hash = MinHash(num_perm=128)\n",
    "    # Hash img\n",
    "    for val in numpy_array:\n",
    "        min_hash.update(val)\n",
    "        \n",
    "    return min_hash"
   ]
  },
  {
   "cell_type": "code",
   "execution_count": 6,
   "metadata": {
    "collapsed": true
   },
   "outputs": [],
   "source": [
    "def LSH_frames(frames):\n",
    "    first_frame = frames.pop(0)\n",
    "    \n",
    "    for frame in frames:\n",
    "        first_frame.merge(frame)\n",
    "    \n",
    "    return first_frame"
   ]
  },
  {
   "cell_type": "code",
   "execution_count": 7,
   "metadata": {},
   "outputs": [],
   "source": [
    "def combined_hash_value(imagefolder):\n",
    "    images = []\n",
    "\n",
    "\n",
    "    for filename in sorted(os.listdir(imagefolder)):\n",
    "        hashed_image = convert_to_hash(imagefolder+filename)\n",
    "        images.append(hashed_image)\n",
    "\n",
    "    return LSH_frames(images)"
   ]
  },
  {
   "cell_type": "code",
   "execution_count": null,
   "metadata": {},
   "outputs": [],
   "source": [
    "get_keyframes_from_video(TEST_VIDEO)"
   ]
  },
  {
   "cell_type": "code",
   "execution_count": null,
   "metadata": {
    "collapsed": true
   },
   "outputs": [],
   "source": []
  }
 ],
 "metadata": {
  "kernelspec": {
   "display_name": "Python 3",
   "language": "python",
   "name": "python3"
  },
  "language_info": {
   "codemirror_mode": {
    "name": "ipython",
    "version": 3
   },
   "file_extension": ".py",
   "mimetype": "text/x-python",
   "name": "python",
   "nbconvert_exporter": "python",
   "pygments_lexer": "ipython3",
   "version": "3.6.2"
  }
 },
 "nbformat": 4,
 "nbformat_minor": 2
}
