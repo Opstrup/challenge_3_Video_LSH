{
 "cells": [
  {
   "cell_type": "code",
   "execution_count": 8,
   "metadata": {
    "collapsed": true
   },
   "outputs": [],
   "source": [
    "# Work flow:\n",
    "# Open video file\n",
    "# Extract frame from video (Extract x number of frames from video?)\n",
    "# Hash frame\n",
    "# Compare hash value with other hash values\n",
    "# Cluster videos based on similarity of hash values"
   ]
  },
  {
   "cell_type": "code",
   "execution_count": 9,
   "metadata": {
    "collapsed": true
   },
   "outputs": [],
   "source": [
    "from adjusted_rand_index import rand_index\n",
    "from sklearn.cluster import KMeans\n",
    "import os\n",
    "import io\n",
    "import math\n",
    "import PIL\n",
    "import numpy\n",
    "from PIL import Image, ImageDraw\n",
    "from threading import Thread\n",
    "import numpy as np\n",
    "from datasketch import MinHash, MinHashLSH\n",
    "from subprocess import call\n",
    "\n",
    "DATASET_FOLDER = 'videos/'\n",
    "TEST_VIDEO = 'ZZTM0X6OON1U.mp4'\n",
    "IMAGE_FOLDER = \"images/\"\n",
    "\n",
    "# Empty dictionary to store video name and hash values\n",
    "Hashvalues = {}"
   ]
  },
  {
   "cell_type": "code",
   "execution_count": 10,
   "metadata": {
    "collapsed": true
   },
   "outputs": [],
   "source": [
    "def get_keyframes_from_video(video):\n",
    "    for filename in sorted(os.listdir(DATASET_FOLDER))[:10]:\n",
    "        test_path = DATASET_FOLDER + \"/\" + filename\n",
    "        call(\"\"\"ffmpeg -i \"\"\" + DATASET_FOLDER + filename + \"\"\" -vf \"select='eq(pict_type,PICT_TYPE_I)'\" -vsync vfr images/image_%d.png\"\"\", shell=True)\n",
    "        Hashvalues[filename] =  combined_hash_value(IMAGE_FOLDER)\n",
    "        delete_images()"
   ]
  },
  {
   "cell_type": "code",
   "execution_count": 11,
   "metadata": {
    "collapsed": true
   },
   "outputs": [],
   "source": [
    "def delete_images():\n",
    "    call(\"rm images/*.png\", shell=True)"
   ]
  },
  {
   "cell_type": "code",
   "execution_count": 12,
   "metadata": {
    "collapsed": true
   },
   "outputs": [],
   "source": [
    "def convert_to_hash(img_path):\n",
    "    # Converte img to grayscale & resize img\n",
    "    img = Image.open(img_path).convert('LA').resize((10,10), PIL.Image.ANTIALIAS)\n",
    "    numpy_array = numpy.array(img)\n",
    "    min_hash = MinHash(num_perm=128)\n",
    "    # Hash img\n",
    "    for val in numpy_array:\n",
    "        min_hash.update(val)\n",
    "        \n",
    "    return min_hash"
   ]
  },
  {
   "cell_type": "code",
   "execution_count": 13,
   "metadata": {
    "collapsed": true
   },
   "outputs": [],
   "source": [
    "def LSH_frames(frames):\n",
    "    first_frame = frames.pop(0)\n",
    "    \n",
    "    for frame in frames:\n",
    "        first_frame.merge(frame)\n",
    "    \n",
    "    return first_frame"
   ]
  },
  {
   "cell_type": "code",
   "execution_count": 14,
   "metadata": {
    "collapsed": true
   },
   "outputs": [],
   "source": [
    "def combined_hash_value(imagefolder):\n",
    "    images = []\n",
    "\n",
    "    for filename in sorted(os.listdir(imagefolder)):\n",
    "        hashed_image = convert_to_hash(imagefolder+filename)\n",
    "        images.append(hashed_image)\n",
    "\n",
    "    return LSH_frames(images)"
   ]
  },
  {
   "cell_type": "code",
   "execution_count": 16,
   "metadata": {},
   "outputs": [],
   "source": [
    "get_keyframes_from_video(TEST_VIDEO)"
   ]
  },
  {
   "cell_type": "code",
   "execution_count": 17,
   "metadata": {
    "collapsed": true
   },
   "outputs": [],
   "source": [
    "value_list = []\n",
    "\n",
    "for key in Hashvalues:\n",
    "    value_list.append(Hashvalues[key].hashvalues)\n",
    "    \n",
    "X = np.array(value_list)\n",
    "kmeans = KMeans(n_clusters=3, random_state=0).fit(X)"
   ]
  },
  {
   "cell_type": "code",
   "execution_count": 18,
   "metadata": {},
   "outputs": [
    {
     "data": {
      "text/plain": [
       "array([0, 1, 2, 1, 1, 0, 1, 1, 1, 1], dtype=int32)"
      ]
     },
     "execution_count": 18,
     "metadata": {},
     "output_type": "execute_result"
    }
   ],
   "source": [
    "kmeans.labels_"
   ]
  },
  {
   "cell_type": "code",
   "execution_count": 19,
   "metadata": {},
   "outputs": [
    {
     "data": {
      "text/plain": [
       "[848917024,\n",
       " 737726443,\n",
       " 704286969,\n",
       " 41055392,\n",
       " 694800114,\n",
       " 838409169,\n",
       " 388337466,\n",
       " 110567965,\n",
       " 363036724,\n",
       " 101590615,\n",
       " 540911617,\n",
       " 150873759,\n",
       " 1298545514,\n",
       " 955518194,\n",
       " 429879970,\n",
       " 32146942,\n",
       " 113719762,\n",
       " 45860336,\n",
       " 62965964,\n",
       " 766879834,\n",
       " 69481422,\n",
       " 232762981,\n",
       " 316169793,\n",
       " 141257415,\n",
       " 767798310,\n",
       " 15896916,\n",
       " 99903574,\n",
       " 197546216,\n",
       " 175332131,\n",
       " 460407794,\n",
       " 134185777,\n",
       " 161455122,\n",
       " 514556473,\n",
       " 588891260,\n",
       " 307868170,\n",
       " 820182822,\n",
       " 315518132,\n",
       " 977431640,\n",
       " 92875461,\n",
       " 249853397,\n",
       " 409463548,\n",
       " 1114055740,\n",
       " 741819521,\n",
       " 357275171,\n",
       " 294083289,\n",
       " 242332927,\n",
       " 24618312,\n",
       " 277893109,\n",
       " 232395982,\n",
       " 314637823,\n",
       " 1196252869,\n",
       " 173869116,\n",
       " 1621584903,\n",
       " 357918799,\n",
       " 1088712375,\n",
       " 410693382,\n",
       " 108042449,\n",
       " 393195550,\n",
       " 36599099,\n",
       " 233061537,\n",
       " 462245658,\n",
       " 87203765,\n",
       " 192307458,\n",
       " 66450247,\n",
       " 629357910,\n",
       " 336499023,\n",
       " 92464348,\n",
       " 227644923,\n",
       " 323641890,\n",
       " 167236806,\n",
       " 337227619,\n",
       " 507089600,\n",
       " 260384247,\n",
       " 29385353,\n",
       " 30735667,\n",
       " 1409717586,\n",
       " 324669727,\n",
       " 774190946,\n",
       " 354069749,\n",
       " 166199907,\n",
       " 20214328,\n",
       " 130085048,\n",
       " 566752535,\n",
       " 69859144,\n",
       " 591198361,\n",
       " 828940030,\n",
       " 54521599,\n",
       " 747611268,\n",
       " 14716660,\n",
       " 228477478,\n",
       " 190622005,\n",
       " 816888251,\n",
       " 18902850,\n",
       " 343943690,\n",
       " 164302018,\n",
       " 177728359,\n",
       " 504200219,\n",
       " 107591924,\n",
       " 7112105,\n",
       " 859700828,\n",
       " 18766233,\n",
       " 1115867889,\n",
       " 559190183,\n",
       " 830211581,\n",
       " 31620843,\n",
       " 938083177,\n",
       " 227516895,\n",
       " 585471529,\n",
       " 278234963,\n",
       " 207361135,\n",
       " 81455168,\n",
       " 37728129,\n",
       " 135577697,\n",
       " 143687714,\n",
       " 1227940,\n",
       " 67208529,\n",
       " 1119042567,\n",
       " 779703276,\n",
       " 323892027,\n",
       " 32650251,\n",
       " 206094107,\n",
       " 955808401,\n",
       " 172188162,\n",
       " 139276191,\n",
       " 75377450,\n",
       " 565937903,\n",
       " 1163791303,\n",
       " 1428069545]"
      ]
     },
     "execution_count": 19,
     "metadata": {},
     "output_type": "execute_result"
    }
   ],
   "source": [
    "list(value_list[0])"
   ]
  },
  {
   "cell_type": "code",
   "execution_count": 20,
   "metadata": {},
   "outputs": [
    {
     "name": "stdout",
     "output_type": "stream",
     "text": [
      "001T42Y7IZV4.mp4\n"
     ]
    }
   ],
   "source": [
    "for key in Hashvalues:    \n",
    "    if (Hashvalues[key].hashvalues == list(value_list[0])).all():\n",
    "        print(key)"
   ]
  }
 ],
 "metadata": {
  "kernelspec": {
   "display_name": "Python 3",
   "language": "python",
   "name": "python3"
  },
  "language_info": {
   "codemirror_mode": {
    "name": "ipython",
    "version": 3
   },
   "file_extension": ".py",
   "mimetype": "text/x-python",
   "name": "python",
   "nbconvert_exporter": "python",
   "pygments_lexer": "ipython3",
   "version": "3.6.1"
  }
 },
 "nbformat": 4,
 "nbformat_minor": 2
}
