{
 "cells": [
  {
   "cell_type": "code",
   "execution_count": null,
   "metadata": {
    "collapsed": true
   },
   "outputs": [],
   "source": [
    "# Work flow:\n",
    "# Open video file\n",
    "# Extract frame from video (Extract x number of frames from video?)\n",
    "# Hash frame\n",
    "# Compare hash value with other hash values\n",
    "# Cluster videos based on similarity of hash values"
   ]
  },
  {
   "cell_type": "code",
   "execution_count": 1,
   "metadata": {
    "collapsed": true
   },
   "outputs": [],
   "source": [
    "from adjusted_rand_index import rand_index\n",
    "from sklearn.cluster import KMeans\n",
    "import os\n",
    "import io\n",
    "import math\n",
    "import PIL\n",
    "import numpy\n",
    "from PIL import Image\n",
    "from threading import Thread\n",
    "import numpy as np\n",
    "from datasketch import MinHash\n",
    "from subprocess import call\n",
    "\n",
    "DATASET_FOLDER = 'videos/'\n",
    "IMAGE_FOLDER = \"images/\"\n",
    "NUM_OF_TEST_VIDEOS = 50\n",
    "NUM_OF_CLUSTERS = 3\n",
    "\n",
    "# Empty dictionary to store video name and hash values\n",
    "hash_values = {}"
   ]
  },
  {
   "cell_type": "code",
   "execution_count": 2,
   "metadata": {
    "collapsed": true
   },
   "outputs": [],
   "source": [
    "def hash_all_videos():\n",
    "    for filename in sorted(os.listdir(DATASET_FOLDER))[:NUM_OF_TEST_VIDEOS]:\n",
    "        call(\"\"\"ffmpeg -i \"\"\" + DATASET_FOLDER + filename + \"\"\" -vf \"select='eq(pict_type,PICT_TYPE_I)'\" -vsync vfr images/image_%d.png\"\"\", shell=True)\n",
    "        hash_values[filename] =  combined_hash_value(IMAGE_FOLDER)\n",
    "        delete_images()"
   ]
  },
  {
   "cell_type": "code",
   "execution_count": 3,
   "metadata": {
    "collapsed": true
   },
   "outputs": [],
   "source": [
    "def delete_images():\n",
    "    call(\"rm images/*.png\", shell=True)"
   ]
  },
  {
   "cell_type": "code",
   "execution_count": 4,
   "metadata": {
    "collapsed": true
   },
   "outputs": [],
   "source": [
    "def convert_image_to_hash(img_path):\n",
    "    # Converte img to grayscale & resize img\n",
    "    img = Image.open(img_path).convert('LA').resize((10,10), PIL.Image.ANTIALIAS)\n",
    "    numpy_array = numpy.array(img)\n",
    "    min_hash = MinHash(num_perm=128)\n",
    "    # Hash img\n",
    "    for val in numpy_array:\n",
    "        min_hash.update(val)\n",
    "        \n",
    "    return min_hash"
   ]
  },
  {
   "cell_type": "code",
   "execution_count": 5,
   "metadata": {
    "collapsed": true
   },
   "outputs": [],
   "source": [
    "def merge_hashed_values(frames):\n",
    "    first_frame = frames.pop(0)\n",
    "    \n",
    "    for frame in frames:\n",
    "        first_frame.merge(frame)\n",
    "    \n",
    "    return first_frame"
   ]
  },
  {
   "cell_type": "code",
   "execution_count": 9,
   "metadata": {
    "collapsed": true
   },
   "outputs": [],
   "source": [
    "def combined_hash_value(imagefolder):\n",
    "    hashed_images = []\n",
    "\n",
    "    for filename in sorted(os.listdir(imagefolder)):\n",
    "        hashed_images.append(convert_image_to_hash(imagefolder+filename))\n",
    "\n",
    "    return merge_hashed_values(hashed_images)"
   ]
  },
  {
   "cell_type": "code",
   "execution_count": 10,
   "metadata": {
    "collapsed": true
   },
   "outputs": [],
   "source": [
    "def prepare_x_values(hashed_values):\n",
    "    value_list = []\n",
    "\n",
    "    for key in hash_values:\n",
    "        value_list.append(hashed_values[key].hashvalues)\n",
    "        \n",
    "    return value_list"
   ]
  },
  {
   "cell_type": "code",
   "execution_count": null,
   "metadata": {
    "collapsed": true
   },
   "outputs": [],
   "source": [
    "value_list = []\n",
    "\n",
    "for key in hash_values:\n",
    "    value_list.append(hash_values[key].hashvalues)\n",
    "    \n",
    "X = np.array(value_list)\n",
    "kmeans = KMeans(n_clusters=NUM_OF_CLUSTERS, random_state=0).fit(X)"
   ]
  },
  {
   "cell_type": "code",
   "execution_count": null,
   "metadata": {
    "collapsed": true
   },
   "outputs": [],
   "source": [
    "for key in hash_values:    \n",
    "    if (hash_values[key].hashvalues == list(value_list[0])).all():\n",
    "        print(key)"
   ]
  },
  {
   "cell_type": "code",
   "execution_count": null,
   "metadata": {
    "collapsed": true
   },
   "outputs": [],
   "source": [
    "for index in range(0,NUM_OF_CLUSTERS):\n",
    "    cluster = []\n",
    "    cluster_index = np.where(kmeans.labels_==index)\n",
    "    for i in cluster_index:\n",
    "        for key in hash_values:\n",
    "            if hash_values[key].hashvalues == value_list[i]:\n",
    "                cluster.append\n",
    "    \n",
    "    "
   ]
  },
  {
   "cell_type": "code",
   "execution_count": 7,
   "metadata": {
    "collapsed": true
   },
   "outputs": [],
   "source": [
    "hash_all_videos()"
   ]
  },
  {
   "cell_type": "code",
   "execution_count": 8,
   "metadata": {},
   "outputs": [
    {
     "data": {
      "text/plain": [
       "50"
      ]
     },
     "execution_count": 8,
     "metadata": {},
     "output_type": "execute_result"
    }
   ],
   "source": [
    "len(hash_values)"
   ]
  },
  {
   "cell_type": "code",
   "execution_count": null,
   "metadata": {
    "collapsed": true
   },
   "outputs": [],
   "source": []
  }
 ],
 "metadata": {
  "kernelspec": {
   "display_name": "Python 3",
   "language": "python",
   "name": "python3"
  },
  "language_info": {
   "codemirror_mode": {
    "name": "ipython",
    "version": 3
   },
   "file_extension": ".py",
   "mimetype": "text/x-python",
   "name": "python",
   "nbconvert_exporter": "python",
   "pygments_lexer": "ipython3",
   "version": "3.6.2"
  }
 },
 "nbformat": 4,
 "nbformat_minor": 2
}
